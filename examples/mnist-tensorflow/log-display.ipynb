{
 "cells": [
  {
   "cell_type": "code",
   "execution_count": 1,
   "id": "c1d6d904-b1de-47a1-80c0-40f28e33bec3",
   "metadata": {},
   "outputs": [],
   "source": [
    "import pandas as pd\n",
    "from cloudmesh.common.util import readfile\n",
    "from io import StringIO\n",
    "import matplotlib.pyplot as plt\n",
    "import seaborn as sns\n"
   ]
  },
  {
   "cell_type": "code",
   "execution_count": 2,
   "id": "73f36676-a045-4f57-815b-5e8ac6e9eba4",
   "metadata": {},
   "outputs": [
    {
     "name": "stdout",
     "output_type": "stream",
     "text": [
      "2022-03-15 15:34:28.309760: I tensorflow/stream_executor/cuda/cuda_gpu_executor.cc:936] successful NUMA node read from SysFS had negative value (-1), but there must be at least one NUMA node, so returning NUMA node zero\n",
      "2022-03-15 15:34:28.326822: I tensorflow/stream_executor/cuda/cuda_gpu_executor.cc:936] successful NUMA node read from SysFS had negative value (-1), but there must be at least one NUMA node, so returning NUMA node zero\n",
      "2022-03-15 15:34:28.326942: I tensorflow/stream_executor/cuda/cuda_gpu_executor.cc:936] successful NUMA node read from SysFS had negative value (-1), but there must be at least one NUMA node, so returning NUMA node zero\n",
      "[PhysicalDevice(name='/physical_device:GPU:0', device_type='GPU')]\n",
      "2022-03-15 15:34:28.327282: I tensorflow/core/platform/cpu_feature_guard.cc:151] This TensorFlow binary is optimized with oneAPI Deep Neural Network Library (oneDNN) to use the following CPU instructions in performance-critical operations:  AVX2 FMA\n",
      "To enable them in other operations, rebuild TensorFlow with the appropriate compiler flags.\n",
      "2022-03-15 15:34:28.328195: I tensorflow/stream_executor/cuda/cuda_gpu_executor.cc:936] successful NUMA node read from SysFS had negative value (-1), but there must be at least one NUMA node, so returning NUMA node zero\n",
      "2022-03-15 15:34:28.328305: I tensorflow/stream_executor/cuda/cuda_gpu_executor.cc:936] successful NUMA node read from SysFS had negative value (-1), but there must be at least one NUMA node, so returning NUMA node zero\n",
      "2022-03-15 15:34:28.328401: I tensorflow/stream_executor/cuda/cuda_gpu_executor.cc:936] successful NUMA node read from SysFS had negative value (-1), but there must be at least one NUMA node, so returning NUMA node zero\n",
      "2022-03-15 15:34:28.597084: I tensorflow/stream_executor/cuda/cuda_gpu_executor.cc:936] successful NUMA node read from SysFS had negative value (-1), but there must be at least one NUMA node, so returning NUMA node zero\n",
      "2022-03-15 15:34:28.597224: I tensorflow/stream_executor/cuda/cuda_gpu_executor.cc:936] successful NUMA node read from SysFS had negative value (-1), but there must be at least one NUMA node, so returning NUMA node zero\n",
      "2022-03-15 15:34:28.597320: I tensorflow/stream_executor/cuda/cuda_gpu_executor.cc:936] successful NUMA node read from SysFS had negative value (-1), but there must be at least one NUMA node, so returning NUMA node zero\n",
      "2022-03-15 15:34:28.597409: I tensorflow/core/common_runtime/gpu/gpu_device.cc:1525] Created device /job:localhost/replica:0/task:0/device:GPU:0 with 20762 MB memory:  -> device: 0, name: NVIDIA GeForce RTX 3090, pci bus id: 0000:0b:00.0, compute capability: 8.6\n",
      "1 Physical GPUs, 1 Logical GPUs\n",
      "Num GPUs: 1\n",
      "Num GPUs: 1\n",
      "\u001b[34m\n",
      "# ----------------------------------------------------------------------\n",
      "# start mnist\n",
      "# ----------------------------------------------------------------------\n",
      "\u001b[0m\n",
      "2022-03-15 15:34:29.732137: I tensorflow/stream_executor/cuda/cuda_blas.cc:1786] TensorFloat-32 will be used for the matrix multiplication. This will only be logged once.\n",
      "\n",
      "+---------------------+------------------------------------------------------------------+\n",
      "| Attribute           | Value                                                            |\n",
      "|---------------------+------------------------------------------------------------------|\n",
      "| BUG_REPORT_URL      | \"https://bugs.launchpad.net/ubuntu/\"                             |\n",
      "| DISTRIB_CODENAME    | focal                                                            |\n",
      "| DISTRIB_DESCRIPTION | \"Ubuntu 20.04.4 LTS\"                                             |\n",
      "| DISTRIB_ID          | Ubuntu                                                           |\n",
      "| DISTRIB_RELEASE     | 20.04                                                            |\n",
      "| HOME_URL            | \"https://www.ubuntu.com/\"                                        |\n",
      "| ID                  | ubuntu                                                           |\n",
      "| ID_LIKE             | debian                                                           |\n",
      "| NAME                | \"Ubuntu\"                                                         |\n",
      "| PRETTY_NAME         | \"Ubuntu 20.04.4 LTS\"                                             |\n",
      "| PRIVACY_POLICY_URL  | \"https://www.ubuntu.com/legal/terms-and-policies/privacy-policy\" |\n",
      "| SUPPORT_URL         | \"https://help.ubuntu.com/\"                                       |\n",
      "| UBUNTU_CODENAME     | focal                                                            |\n",
      "| VERSION             | \"20.04.4 LTS (Focal Fossa)\"                                      |\n",
      "| VERSION_CODENAME    | focal                                                            |\n",
      "| VERSION_ID          | \"20.04\"                                                          |\n",
      "| cpu                 | AMD Ryzen 9 5950X 16-Core Processor                              |\n",
      "| cpu_cores           | 16                                                               |\n",
      "| cpu_count           | 32                                                               |\n",
      "| cpu_threads         | 32                                                               |\n",
      "| frequency           | scpufreq(current=2.404375000000001, min=2200.0, max=3400.0)      |\n",
      "| mem.active          | 19.1 GiB                                                         |\n",
      "| mem.available       | 114.1 GiB                                                        |\n",
      "| mem.free            | 82.5 GiB                                                         |\n",
      "| mem.inactive        | 19.0 GiB                                                         |\n",
      "| mem.percent         | 9.3 %                                                            |\n",
      "| mem.total           | 125.7 GiB                                                        |\n",
      "| mem.used            | 10.3 GiB                                                         |\n",
      "| platform.version    | #40~20.04.1-Ubuntu SMP Mon Mar 7 09:18:32 UTC 2022               |\n",
      "| python              | 3.10.2 (main, Mar  1 2022, 16:23:28) [GCC 9.3.0]                 |\n",
      "| python.pip          | 22.0.4                                                           |\n",
      "| python.version      | 3.10.2                                                           |\n",
      "| sys.platform        | linux                                                            |\n",
      "| uname.machine       | x86_64                                                           |\n",
      "| uname.node          | RTX3090                                                          |\n",
      "| uname.processor     | x86_64                                                           |\n",
      "| uname.release       | 5.13.0-35-generic                                                |\n",
      "| uname.system        | Linux                                                            |\n",
      "| uname.version       | #40~20.04.1-Ubuntu SMP Mon Mar 7 09:18:32 UTC 2022               |\n",
      "| user                | gregor                                                           |\n",
      "+---------------------+------------------------------------------------------------------+\n",
      "\n",
      "+----------+----------+--------+-------+---------------------+-------+-------+---------+--------+-------+----------------------------------------------------+\n",
      "| Name     | Status   |   Time |   Sum | Start               | tag   | msg   | Node    | User   | OS    | Version                                            |\n",
      "|----------+----------+--------+-------+---------------------+-------+-------+---------+--------+-------+----------------------------------------------------|\n",
      "| total    | ok       |  7.388 | 7.388 | 2022-03-15 19:34:28 |       |       | RTX3090 | gregor | Linux | #40~20.04.1-Ubuntu SMP Mon Mar 7 09:18:32 UTC 2022 |\n",
      "| load     | ok       |  0.19  | 0.19  | 2022-03-15 19:34:28 |       |       | RTX3090 | gregor | Linux | #40~20.04.1-Ubuntu SMP Mon Mar 7 09:18:32 UTC 2022 |\n",
      "| model    | ok       |  0.008 | 0.008 | 2022-03-15 19:34:28 |       |       | RTX3090 | gregor | Linux | #40~20.04.1-Ubuntu SMP Mon Mar 7 09:18:32 UTC 2022 |\n",
      "| compile  | ok       |  0.003 | 0.003 | 2022-03-15 19:34:28 |       |       | RTX3090 | gregor | Linux | #40~20.04.1-Ubuntu SMP Mon Mar 7 09:18:32 UTC 2022 |\n",
      "| fit      | ok       |  6.883 | 6.883 | 2022-03-15 19:34:28 |       |       | RTX3090 | gregor | Linux | #40~20.04.1-Ubuntu SMP Mon Mar 7 09:18:32 UTC 2022 |\n",
      "| evaluate | ok       |  0.304 | 0.304 | 2022-03-15 19:34:35 |       |       | RTX3090 | gregor | Linux | #40~20.04.1-Ubuntu SMP Mon Mar 7 09:18:32 UTC 2022 |\n",
      "+----------+----------+--------+-------+---------------------+-------+-------+---------+--------+-------+----------------------------------------------------+\n",
      "\n",
      "# csv,timer,status,time,sum,start,tag,msg,uname.node,user,uname.system,platform.version\n",
      "# csv,total,ok,7.388,7.388,2022-03-15 19:34:28,,None,RTX3090,gregor,Linux,#40~20.04.1-Ubuntu SMP Mon Mar 7 09:18:32 UTC 2022\n",
      "# csv,load,ok,0.19,0.19,2022-03-15 19:34:28,,None,RTX3090,gregor,Linux,#40~20.04.1-Ubuntu SMP Mon Mar 7 09:18:32 UTC 2022\n",
      "# csv,model,ok,0.008,0.008,2022-03-15 19:34:28,,None,RTX3090,gregor,Linux,#40~20.04.1-Ubuntu SMP Mon Mar 7 09:18:32 UTC 2022\n",
      "# csv,compile,ok,0.003,0.003,2022-03-15 19:34:28,,None,RTX3090,gregor,Linux,#40~20.04.1-Ubuntu SMP Mon Mar 7 09:18:32 UTC 2022\n",
      "# csv,fit,ok,6.883,6.883,2022-03-15 19:34:28,,None,RTX3090,gregor,Linux,#40~20.04.1-Ubuntu SMP Mon Mar 7 09:18:32 UTC 2022\n",
      "# csv,evaluate,ok,0.304,0.304,2022-03-15 19:34:35,,None,RTX3090,gregor,Linux,#40~20.04.1-Ubuntu SMP Mon Mar 7 09:18:32 UTC 2022\n",
      "\n",
      "gpu kill\n",
      "\u001b[34m\n",
      "# ----------------------------------------------------------------------\n",
      "# arguments\n",
      "# ----------------------------------------------------------------------\n",
      "# 47:do_gpu /home/green/Desktop/cm/cloudmesh-gpu/cloudmesh/gpu/command/gpu.py\n",
      "# ----------------------------------------------------------------------\n",
      "# {'--count': '-1',\n",
      "#  '--delay': None,\n",
      "#  '--dense': False,\n",
      "#  '--json': False,\n",
      "#  '--logfile': None,\n",
      "#  '--pretty': False,\n",
      "#  '--xml': False,\n",
      "#  '--yaml': False,\n",
      "#  'count': False,\n",
      "#  'kill': True,\n",
      "#  'processes': False,\n",
      "#  'status': False,\n",
      "#  'system': False,\n",
      "#  'watch': False}\n",
      "# ----------------------------------------------------------------------\n",
      "\u001b[0m\n",
      "Timer: 0.1556s Load: 0.0014s gpu kill\n",
      "\u001b[0m"
     ]
    }
   ],
   "source": [
    "!python mnist.py --gpu=0 --delay=0.1 --user=\"gregor\" --node=\"RTX3090\""
   ]
  },
  {
   "cell_type": "code",
   "execution_count": 3,
   "id": "c41c5208-adb5-4d99-93e5-ded5e1f9bb12",
   "metadata": {},
   "outputs": [
    {
     "name": "stdout",
     "output_type": "stream",
     "text": [
      "2022-03-15 15:34:28.903858\n"
     ]
    },
    {
     "data": {
      "text/html": [
       "<div>\n",
       "<style scoped>\n",
       "    .dataframe tbody tr th:only-of-type {\n",
       "        vertical-align: middle;\n",
       "    }\n",
       "\n",
       "    .dataframe tbody tr th {\n",
       "        vertical-align: top;\n",
       "    }\n",
       "\n",
       "    .dataframe thead th {\n",
       "        text-align: right;\n",
       "    }\n",
       "</style>\n",
       "<table border=\"1\" class=\"dataframe\">\n",
       "  <thead>\n",
       "    <tr style=\"text-align: right;\">\n",
       "      <th></th>\n",
       "      <th>time</th>\n",
       "      <th>gpu_util</th>\n",
       "      <th>memory_util</th>\n",
       "      <th>encoder_util</th>\n",
       "      <th>decoder_util</th>\n",
       "      <th>gpu_temp_C</th>\n",
       "      <th>power_draw_W</th>\n",
       "      <th>x</th>\n",
       "    </tr>\n",
       "  </thead>\n",
       "  <tbody>\n",
       "    <tr>\n",
       "      <th>0</th>\n",
       "      <td>0 days 00:00:00</td>\n",
       "      <td>1</td>\n",
       "      <td>1</td>\n",
       "      <td>0</td>\n",
       "      <td>0</td>\n",
       "      <td>55</td>\n",
       "      <td>91.14</td>\n",
       "      <td>0</td>\n",
       "    </tr>\n",
       "    <tr>\n",
       "      <th>1</th>\n",
       "      <td>0 days 00:00:00.096068</td>\n",
       "      <td>21</td>\n",
       "      <td>1</td>\n",
       "      <td>0</td>\n",
       "      <td>0</td>\n",
       "      <td>55</td>\n",
       "      <td>99.34</td>\n",
       "      <td>1</td>\n",
       "    </tr>\n",
       "    <tr>\n",
       "      <th>2</th>\n",
       "      <td>0 days 00:00:00.188278</td>\n",
       "      <td>21</td>\n",
       "      <td>1</td>\n",
       "      <td>0</td>\n",
       "      <td>0</td>\n",
       "      <td>55</td>\n",
       "      <td>107.22</td>\n",
       "      <td>2</td>\n",
       "    </tr>\n",
       "    <tr>\n",
       "      <th>3</th>\n",
       "      <td>0 days 00:00:00.281369</td>\n",
       "      <td>0</td>\n",
       "      <td>1</td>\n",
       "      <td>0</td>\n",
       "      <td>0</td>\n",
       "      <td>55</td>\n",
       "      <td>115.23</td>\n",
       "      <td>3</td>\n",
       "    </tr>\n",
       "    <tr>\n",
       "      <th>4</th>\n",
       "      <td>0 days 00:00:00.380484</td>\n",
       "      <td>0</td>\n",
       "      <td>1</td>\n",
       "      <td>0</td>\n",
       "      <td>0</td>\n",
       "      <td>55</td>\n",
       "      <td>123.31</td>\n",
       "      <td>4</td>\n",
       "    </tr>\n",
       "    <tr>\n",
       "      <th>...</th>\n",
       "      <td>...</td>\n",
       "      <td>...</td>\n",
       "      <td>...</td>\n",
       "      <td>...</td>\n",
       "      <td>...</td>\n",
       "      <td>...</td>\n",
       "      <td>...</td>\n",
       "      <td>...</td>\n",
       "    </tr>\n",
       "    <tr>\n",
       "      <th>71</th>\n",
       "      <td>0 days 00:00:06.940455</td>\n",
       "      <td>21</td>\n",
       "      <td>2</td>\n",
       "      <td>0</td>\n",
       "      <td>0</td>\n",
       "      <td>56</td>\n",
       "      <td>145.04</td>\n",
       "      <td>71</td>\n",
       "    </tr>\n",
       "    <tr>\n",
       "      <th>72</th>\n",
       "      <td>0 days 00:00:07.040480</td>\n",
       "      <td>21</td>\n",
       "      <td>1</td>\n",
       "      <td>0</td>\n",
       "      <td>0</td>\n",
       "      <td>56</td>\n",
       "      <td>144.49</td>\n",
       "      <td>72</td>\n",
       "    </tr>\n",
       "    <tr>\n",
       "      <th>73</th>\n",
       "      <td>0 days 00:00:07.142075</td>\n",
       "      <td>21</td>\n",
       "      <td>1</td>\n",
       "      <td>0</td>\n",
       "      <td>0</td>\n",
       "      <td>56</td>\n",
       "      <td>143.90</td>\n",
       "      <td>73</td>\n",
       "    </tr>\n",
       "    <tr>\n",
       "      <th>74</th>\n",
       "      <td>0 days 00:00:07.243964</td>\n",
       "      <td>8</td>\n",
       "      <td>1</td>\n",
       "      <td>0</td>\n",
       "      <td>0</td>\n",
       "      <td>56</td>\n",
       "      <td>143.09</td>\n",
       "      <td>74</td>\n",
       "    </tr>\n",
       "    <tr>\n",
       "      <th>75</th>\n",
       "      <td>0 days 00:00:07.348506</td>\n",
       "      <td>8</td>\n",
       "      <td>1</td>\n",
       "      <td>0</td>\n",
       "      <td>0</td>\n",
       "      <td>56</td>\n",
       "      <td>142.41</td>\n",
       "      <td>75</td>\n",
       "    </tr>\n",
       "  </tbody>\n",
       "</table>\n",
       "<p>76 rows × 8 columns</p>\n",
       "</div>"
      ],
      "text/plain": [
       "                     time  gpu_util  memory_util  encoder_util  decoder_util  \\\n",
       "0         0 days 00:00:00         1            1             0             0   \n",
       "1  0 days 00:00:00.096068        21            1             0             0   \n",
       "2  0 days 00:00:00.188278        21            1             0             0   \n",
       "3  0 days 00:00:00.281369         0            1             0             0   \n",
       "4  0 days 00:00:00.380484         0            1             0             0   \n",
       "..                    ...       ...          ...           ...           ...   \n",
       "71 0 days 00:00:06.940455        21            2             0             0   \n",
       "72 0 days 00:00:07.040480        21            1             0             0   \n",
       "73 0 days 00:00:07.142075        21            1             0             0   \n",
       "74 0 days 00:00:07.243964         8            1             0             0   \n",
       "75 0 days 00:00:07.348506         8            1             0             0   \n",
       "\n",
       "    gpu_temp_C  power_draw_W   x  \n",
       "0           55         91.14   0  \n",
       "1           55         99.34   1  \n",
       "2           55        107.22   2  \n",
       "3           55        115.23   3  \n",
       "4           55        123.31   4  \n",
       "..         ...           ...  ..  \n",
       "71          56        145.04  71  \n",
       "72          56        144.49  72  \n",
       "73          56        143.90  73  \n",
       "74          56        143.09  74  \n",
       "75          56        142.41  75  \n",
       "\n",
       "[76 rows x 8 columns]"
      ]
     },
     "execution_count": 3,
     "metadata": {},
     "output_type": "execute_result"
    }
   ],
   "source": [
    "filename=\"mnist.log.log\"\n",
    "\n",
    "content = readfile (\"mnist.log.log\").splitlines()\n",
    "\n",
    "header = \"time,gpu_util,memory_util,encoder_util,decoder_util,gpu_temp_C,power_draw_W\"\n",
    "result = \"\"\n",
    "for line in content:\n",
    "    if not line.startswith(\"#\") and not line.startswith(\" \") and not line.startswith(\"\\n\") and not line.startswith(\"gpu\"):\n",
    "        result = result + line + \"\\n\"\n",
    "\n",
    "result = header + \"\\n\" + result\n",
    "\n",
    "\n",
    "\n",
    "csvStringIO = StringIO(result)\n",
    "\n",
    "df = pd.read_csv(csvStringIO, comment='#', sep=\",\") \n",
    "\n",
    "df.time = pd.to_datetime(df['time'], format='%Y-%m-%d %H:%M:%S.%f')\n",
    "df[\"x\"] = df.index\n",
    "start = df['time'][0]\n",
    "df['time'] = df['time'] - start\n",
    "print (start)\n",
    "\n",
    "df"
   ]
  },
  {
   "cell_type": "code",
   "execution_count": 4,
   "id": "71a6c7b2-0d3f-4cff-863e-7514c2d87052",
   "metadata": {},
   "outputs": [
    {
     "data": {
      "text/plain": [
       "0           0 days 00:00:00\n",
       "1    0 days 00:00:00.096068\n",
       "2    0 days 00:00:00.188278\n",
       "3    0 days 00:00:00.281369\n",
       "4    0 days 00:00:00.380484\n",
       "              ...          \n",
       "71   0 days 00:00:06.940455\n",
       "72   0 days 00:00:07.040480\n",
       "73   0 days 00:00:07.142075\n",
       "74   0 days 00:00:07.243964\n",
       "75   0 days 00:00:07.348506\n",
       "Name: time, Length: 76, dtype: timedelta64[ns]"
      ]
     },
     "execution_count": 4,
     "metadata": {},
     "output_type": "execute_result"
    }
   ],
   "source": [
    "df[\"time\"]"
   ]
  },
  {
   "cell_type": "code",
   "execution_count": 5,
   "id": "14e993bc-e138-42c5-abcb-a04f10a4c904",
   "metadata": {},
   "outputs": [
    {
     "data": {
      "text/plain": [
       "Text(0, 0.5, 'GPU Utilization in %')"
      ]
     },
     "execution_count": 5,
     "metadata": {},
     "output_type": "execute_result"
    },
    {
     "data": {
      "image/png": "[encoded data removed]",
      "text/plain": [
       "<Figure size 432x288 with 1 Axes>"
      ]
     },
     "metadata": {
      "needs_background": "light"
     },
     "output_type": "display_data"
    }
   ],
   "source": [
    "p = sns.lineplot(y='gpu_util', x=\"time\", data=df)\n",
    "p.set_xlabel(\"Time/s\", fontsize = 18)\n",
    "p.set_ylabel(\"GPU Utilization in %\", fontsize = 18)"
   ]
  },
  {
   "cell_type": "code",
   "execution_count": 6,
   "id": "43797eac-b55b-4f6a-83d1-a3dfd48281ce",
   "metadata": {},
   "outputs": [
    {
     "data": {
      "text/plain": [
       "Text(0, 0.5, 'GPU Utilization in %')"
      ]
     },
     "execution_count": 6,
     "metadata": {},
     "output_type": "execute_result"
    },
    {
     "data": {
      "image/png": "[encoded data removed]",
      "text/plain": [
       "<Figure size 432x288 with 1 Axes>"
      ]
     },
     "metadata": {
      "needs_background": "light"
     },
     "output_type": "display_data"
    }
   ],
   "source": [
    "p = sns.lineplot(y='gpu_temp_C', x=\"time\", data=df)\n",
    "p.set_xlabel(\"Time/s\", fontsize = 18)\n",
    "p.set_ylabel(\"GPU Utilization in %\", fontsize = 18)"
   ]
  },
  {
   "cell_type": "code",
   "execution_count": 7,
   "id": "6b68dc7d-ff0b-4243-b3e9-aa04d1ee1e01",
   "metadata": {},
   "outputs": [
    {
     "data": {
      "text/plain": [
       "Text(0, 0.5, 'GPU Powerdraw in W')"
      ]
     },
     "execution_count": 7,
     "metadata": {},
     "output_type": "execute_result"
    },
    {
     "data": {
      "image/png": "[encoded data removed]",
      "text/plain": [
       "<Figure size 432x288 with 1 Axes>"
      ]
     },
     "metadata": {
      "needs_background": "light"
     },
     "output_type": "display_data"
    }
   ],
   "source": [
    "p = sns.lineplot(y='power_draw_W', x=\"time\", data=df)\n",
    "p.set_xlabel(\"Time/s\", fontsize = 18)\n",
    "p.set_ylabel(\"GPU Powerdraw in W\", fontsize = 18)"
   ]
  },
  {
   "cell_type": "code",
   "execution_count": null,
   "id": "e4e51bc7-20fb-4658-b3a0-63ee64043da2",
   "metadata": {},
   "outputs": [],
   "source": []
  },
  {
   "cell_type": "code",
   "execution_count": null,
   "id": "5cf0ece4-0660-439b-ae51-1a8f72a122c8",
   "metadata": {},
   "outputs": [],
   "source": []
  }
 ],
 "metadata": {
  "kernelspec": {
   "display_name": "Python 3 (ipykernel)",
   "language": "python",
   "name": "python3"
  },
  "language_info": {
   "codemirror_mode": {
    "name": "ipython",
    "version": 3
   },
   "file_extension": ".py",
   "mimetype": "text/x-python",
   "name": "python",
   "nbconvert_exporter": "python",
   "pygments_lexer": "ipython3",
   "version": "3.10.2"
  }
 },
 "nbformat": 4,
 "nbformat_minor": 5
}
